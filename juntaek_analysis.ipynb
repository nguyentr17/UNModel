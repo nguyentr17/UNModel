{
 "cells": [
  {
   "cell_type": "markdown",
   "metadata": {},
   "source": [
    "# Jun Taek's Progress"
   ]
  },
  {
   "cell_type": "markdown",
   "metadata": {},
   "source": [
    "I will be working on SVMs and artificial neural networks."
   ]
  },
  {
   "cell_type": "markdown",
   "metadata": {},
   "source": [
    "Changing directory for analysis."
   ]
  },
  {
   "cell_type": "code",
   "execution_count": 325,
   "metadata": {
    "collapsed": true
   },
   "outputs": [],
   "source": [
    "import os\n",
    "import xml.etree.ElementTree as ET\n",
    "from lxml import etree\n",
    "import pandas as pd\n",
    "import numpy as np"
   ]
  },
  {
   "cell_type": "code",
   "execution_count": 326,
   "metadata": {
    "collapsed": false
   },
   "outputs": [
    {
     "data": {
      "text/plain": [
       "'/Users/juntaeklee/Documents/Projects/UNMOdel'"
      ]
     },
     "execution_count": 326,
     "metadata": {},
     "output_type": "execute_result"
    }
   ],
   "source": [
    "os.chdir(\"/Users/juntaeklee/Documents/Projects/UNMOdel/\")\n",
    "os.getcwd()"
   ]
  },
  {
   "cell_type": "markdown",
   "metadata": {},
   "source": [
    "Opening xml and parsing data of UN data"
   ]
  },
  {
   "cell_type": "markdown",
   "metadata": {},
   "source": [
    "# Importing Data"
   ]
  },
  {
   "cell_type": "code",
   "execution_count": 398,
   "metadata": {
    "collapsed": false,
    "scrolled": true
   },
   "outputs": [
    {
     "data": {
      "text/html": [
       "<div>\n",
       "<table border=\"1\" class=\"dataframe\">\n",
       "  <thead>\n",
       "    <tr style=\"text-align: right;\">\n",
       "      <th></th>\n",
       "      <th>country</th>\n",
       "      <th>date</th>\n",
       "      <th>GDP per cap</th>\n",
       "      <th>doing_business</th>\n",
       "    </tr>\n",
       "  </thead>\n",
       "  <tbody>\n",
       "    <tr>\n",
       "      <th>0</th>\n",
       "      <td>Arab World</td>\n",
       "      <td>2016-01-01</td>\n",
       "      <td>NaN</td>\n",
       "      <td>126.727273</td>\n",
       "    </tr>\n",
       "    <tr>\n",
       "      <th>1</th>\n",
       "      <td>Arab World</td>\n",
       "      <td>2015-01-01</td>\n",
       "      <td>15454.231911</td>\n",
       "      <td>126.909091</td>\n",
       "    </tr>\n",
       "    <tr>\n",
       "      <th>2</th>\n",
       "      <td>Arab World</td>\n",
       "      <td>2014-01-01</td>\n",
       "      <td>15299.087440</td>\n",
       "      <td>NaN</td>\n",
       "    </tr>\n",
       "    <tr>\n",
       "      <th>3</th>\n",
       "      <td>Arab World</td>\n",
       "      <td>2013-01-01</td>\n",
       "      <td>15206.856468</td>\n",
       "      <td>NaN</td>\n",
       "    </tr>\n",
       "    <tr>\n",
       "      <th>4</th>\n",
       "      <td>Arab World</td>\n",
       "      <td>2012-01-01</td>\n",
       "      <td>15018.352641</td>\n",
       "      <td>NaN</td>\n",
       "    </tr>\n",
       "    <tr>\n",
       "      <th>5</th>\n",
       "      <td>Arab World</td>\n",
       "      <td>2011-01-01</td>\n",
       "      <td>14577.135594</td>\n",
       "      <td>NaN</td>\n",
       "    </tr>\n",
       "    <tr>\n",
       "      <th>6</th>\n",
       "      <td>Arab World</td>\n",
       "      <td>2010-01-01</td>\n",
       "      <td>14490.196491</td>\n",
       "      <td>NaN</td>\n",
       "    </tr>\n",
       "    <tr>\n",
       "      <th>7</th>\n",
       "      <td>Arab World</td>\n",
       "      <td>2009-01-01</td>\n",
       "      <td>14159.605054</td>\n",
       "      <td>NaN</td>\n",
       "    </tr>\n",
       "    <tr>\n",
       "      <th>8</th>\n",
       "      <td>Arab World</td>\n",
       "      <td>2008-01-01</td>\n",
       "      <td>14224.249816</td>\n",
       "      <td>NaN</td>\n",
       "    </tr>\n",
       "    <tr>\n",
       "      <th>9</th>\n",
       "      <td>Arab World</td>\n",
       "      <td>2007-01-01</td>\n",
       "      <td>13705.208397</td>\n",
       "      <td>NaN</td>\n",
       "    </tr>\n",
       "    <tr>\n",
       "      <th>10</th>\n",
       "      <td>Arab World</td>\n",
       "      <td>2006-01-01</td>\n",
       "      <td>13294.887765</td>\n",
       "      <td>NaN</td>\n",
       "    </tr>\n",
       "    <tr>\n",
       "      <th>11</th>\n",
       "      <td>Arab World</td>\n",
       "      <td>2005-01-01</td>\n",
       "      <td>12726.811353</td>\n",
       "      <td>NaN</td>\n",
       "    </tr>\n",
       "    <tr>\n",
       "      <th>12</th>\n",
       "      <td>Arab World</td>\n",
       "      <td>2004-01-01</td>\n",
       "      <td>12277.245829</td>\n",
       "      <td>NaN</td>\n",
       "    </tr>\n",
       "    <tr>\n",
       "      <th>13</th>\n",
       "      <td>Arab World</td>\n",
       "      <td>2003-01-01</td>\n",
       "      <td>11454.800365</td>\n",
       "      <td>NaN</td>\n",
       "    </tr>\n",
       "    <tr>\n",
       "      <th>14</th>\n",
       "      <td>Arab World</td>\n",
       "      <td>2002-01-01</td>\n",
       "      <td>11318.372912</td>\n",
       "      <td>NaN</td>\n",
       "    </tr>\n",
       "    <tr>\n",
       "      <th>15</th>\n",
       "      <td>Arab World</td>\n",
       "      <td>2001-01-01</td>\n",
       "      <td>11397.172878</td>\n",
       "      <td>NaN</td>\n",
       "    </tr>\n",
       "    <tr>\n",
       "      <th>16</th>\n",
       "      <td>Arab World</td>\n",
       "      <td>2000-01-01</td>\n",
       "      <td>11372.059728</td>\n",
       "      <td>NaN</td>\n",
       "    </tr>\n",
       "    <tr>\n",
       "      <th>17</th>\n",
       "      <td>Arab World</td>\n",
       "      <td>1999-01-01</td>\n",
       "      <td>11073.126646</td>\n",
       "      <td>NaN</td>\n",
       "    </tr>\n",
       "    <tr>\n",
       "      <th>18</th>\n",
       "      <td>Arab World</td>\n",
       "      <td>1998-01-01</td>\n",
       "      <td>10921.465437</td>\n",
       "      <td>NaN</td>\n",
       "    </tr>\n",
       "    <tr>\n",
       "      <th>19</th>\n",
       "      <td>Arab World</td>\n",
       "      <td>1997-01-01</td>\n",
       "      <td>10546.015814</td>\n",
       "      <td>NaN</td>\n",
       "    </tr>\n",
       "    <tr>\n",
       "      <th>20</th>\n",
       "      <td>Arab World</td>\n",
       "      <td>1996-01-01</td>\n",
       "      <td>10277.928972</td>\n",
       "      <td>NaN</td>\n",
       "    </tr>\n",
       "    <tr>\n",
       "      <th>21</th>\n",
       "      <td>Arab World</td>\n",
       "      <td>1995-01-01</td>\n",
       "      <td>10024.119493</td>\n",
       "      <td>NaN</td>\n",
       "    </tr>\n",
       "    <tr>\n",
       "      <th>22</th>\n",
       "      <td>Arab World</td>\n",
       "      <td>1994-01-01</td>\n",
       "      <td>10048.959941</td>\n",
       "      <td>NaN</td>\n",
       "    </tr>\n",
       "    <tr>\n",
       "      <th>23</th>\n",
       "      <td>Arab World</td>\n",
       "      <td>1993-01-01</td>\n",
       "      <td>9992.604364</td>\n",
       "      <td>NaN</td>\n",
       "    </tr>\n",
       "    <tr>\n",
       "      <th>24</th>\n",
       "      <td>Arab World</td>\n",
       "      <td>1992-01-01</td>\n",
       "      <td>9881.058779</td>\n",
       "      <td>NaN</td>\n",
       "    </tr>\n",
       "    <tr>\n",
       "      <th>25</th>\n",
       "      <td>Arab World</td>\n",
       "      <td>1991-01-01</td>\n",
       "      <td>9561.431618</td>\n",
       "      <td>NaN</td>\n",
       "    </tr>\n",
       "    <tr>\n",
       "      <th>26</th>\n",
       "      <td>Arab World</td>\n",
       "      <td>1990-01-01</td>\n",
       "      <td>10053.737688</td>\n",
       "      <td>NaN</td>\n",
       "    </tr>\n",
       "    <tr>\n",
       "      <th>27</th>\n",
       "      <td>Arab World</td>\n",
       "      <td>1989-01-01</td>\n",
       "      <td>NaN</td>\n",
       "      <td>NaN</td>\n",
       "    </tr>\n",
       "    <tr>\n",
       "      <th>28</th>\n",
       "      <td>Arab World</td>\n",
       "      <td>1988-01-01</td>\n",
       "      <td>NaN</td>\n",
       "      <td>NaN</td>\n",
       "    </tr>\n",
       "    <tr>\n",
       "      <th>29</th>\n",
       "      <td>Arab World</td>\n",
       "      <td>1987-01-01</td>\n",
       "      <td>NaN</td>\n",
       "      <td>NaN</td>\n",
       "    </tr>\n",
       "    <tr>\n",
       "      <th>...</th>\n",
       "      <td>...</td>\n",
       "      <td>...</td>\n",
       "      <td>...</td>\n",
       "      <td>...</td>\n",
       "    </tr>\n",
       "    <tr>\n",
       "      <th>15018</th>\n",
       "      <td>Zimbabwe</td>\n",
       "      <td>1998-01-01</td>\n",
       "      <td>2680.964239</td>\n",
       "      <td>NaN</td>\n",
       "    </tr>\n",
       "    <tr>\n",
       "      <th>15019</th>\n",
       "      <td>Zimbabwe</td>\n",
       "      <td>1997-01-01</td>\n",
       "      <td>2641.840651</td>\n",
       "      <td>NaN</td>\n",
       "    </tr>\n",
       "    <tr>\n",
       "      <th>15020</th>\n",
       "      <td>Zimbabwe</td>\n",
       "      <td>1996-01-01</td>\n",
       "      <td>2612.338217</td>\n",
       "      <td>NaN</td>\n",
       "    </tr>\n",
       "    <tr>\n",
       "      <th>15021</th>\n",
       "      <td>Zimbabwe</td>\n",
       "      <td>1995-01-01</td>\n",
       "      <td>2406.503921</td>\n",
       "      <td>NaN</td>\n",
       "    </tr>\n",
       "    <tr>\n",
       "      <th>15022</th>\n",
       "      <td>Zimbabwe</td>\n",
       "      <td>1994-01-01</td>\n",
       "      <td>2445.902676</td>\n",
       "      <td>NaN</td>\n",
       "    </tr>\n",
       "    <tr>\n",
       "      <th>15023</th>\n",
       "      <td>Zimbabwe</td>\n",
       "      <td>1993-01-01</td>\n",
       "      <td>2282.936379</td>\n",
       "      <td>NaN</td>\n",
       "    </tr>\n",
       "    <tr>\n",
       "      <th>15024</th>\n",
       "      <td>Zimbabwe</td>\n",
       "      <td>1992-01-01</td>\n",
       "      <td>2307.728001</td>\n",
       "      <td>NaN</td>\n",
       "    </tr>\n",
       "    <tr>\n",
       "      <th>15025</th>\n",
       "      <td>Zimbabwe</td>\n",
       "      <td>1991-01-01</td>\n",
       "      <td>2596.887816</td>\n",
       "      <td>NaN</td>\n",
       "    </tr>\n",
       "    <tr>\n",
       "      <th>15026</th>\n",
       "      <td>Zimbabwe</td>\n",
       "      <td>1990-01-01</td>\n",
       "      <td>2526.072205</td>\n",
       "      <td>NaN</td>\n",
       "    </tr>\n",
       "    <tr>\n",
       "      <th>15027</th>\n",
       "      <td>Zimbabwe</td>\n",
       "      <td>1989-01-01</td>\n",
       "      <td>NaN</td>\n",
       "      <td>NaN</td>\n",
       "    </tr>\n",
       "    <tr>\n",
       "      <th>15028</th>\n",
       "      <td>Zimbabwe</td>\n",
       "      <td>1988-01-01</td>\n",
       "      <td>NaN</td>\n",
       "      <td>NaN</td>\n",
       "    </tr>\n",
       "    <tr>\n",
       "      <th>15029</th>\n",
       "      <td>Zimbabwe</td>\n",
       "      <td>1987-01-01</td>\n",
       "      <td>NaN</td>\n",
       "      <td>NaN</td>\n",
       "    </tr>\n",
       "    <tr>\n",
       "      <th>15030</th>\n",
       "      <td>Zimbabwe</td>\n",
       "      <td>1986-01-01</td>\n",
       "      <td>NaN</td>\n",
       "      <td>NaN</td>\n",
       "    </tr>\n",
       "    <tr>\n",
       "      <th>15031</th>\n",
       "      <td>Zimbabwe</td>\n",
       "      <td>1985-01-01</td>\n",
       "      <td>NaN</td>\n",
       "      <td>NaN</td>\n",
       "    </tr>\n",
       "    <tr>\n",
       "      <th>15032</th>\n",
       "      <td>Zimbabwe</td>\n",
       "      <td>1984-01-01</td>\n",
       "      <td>NaN</td>\n",
       "      <td>NaN</td>\n",
       "    </tr>\n",
       "    <tr>\n",
       "      <th>15033</th>\n",
       "      <td>Zimbabwe</td>\n",
       "      <td>1983-01-01</td>\n",
       "      <td>NaN</td>\n",
       "      <td>NaN</td>\n",
       "    </tr>\n",
       "    <tr>\n",
       "      <th>15034</th>\n",
       "      <td>Zimbabwe</td>\n",
       "      <td>1982-01-01</td>\n",
       "      <td>NaN</td>\n",
       "      <td>NaN</td>\n",
       "    </tr>\n",
       "    <tr>\n",
       "      <th>15035</th>\n",
       "      <td>Zimbabwe</td>\n",
       "      <td>1981-01-01</td>\n",
       "      <td>NaN</td>\n",
       "      <td>NaN</td>\n",
       "    </tr>\n",
       "    <tr>\n",
       "      <th>15036</th>\n",
       "      <td>Zimbabwe</td>\n",
       "      <td>1980-01-01</td>\n",
       "      <td>NaN</td>\n",
       "      <td>NaN</td>\n",
       "    </tr>\n",
       "    <tr>\n",
       "      <th>15037</th>\n",
       "      <td>Zimbabwe</td>\n",
       "      <td>1979-01-01</td>\n",
       "      <td>NaN</td>\n",
       "      <td>NaN</td>\n",
       "    </tr>\n",
       "    <tr>\n",
       "      <th>15038</th>\n",
       "      <td>Zimbabwe</td>\n",
       "      <td>1978-01-01</td>\n",
       "      <td>NaN</td>\n",
       "      <td>NaN</td>\n",
       "    </tr>\n",
       "    <tr>\n",
       "      <th>15039</th>\n",
       "      <td>Zimbabwe</td>\n",
       "      <td>1977-01-01</td>\n",
       "      <td>NaN</td>\n",
       "      <td>NaN</td>\n",
       "    </tr>\n",
       "    <tr>\n",
       "      <th>15040</th>\n",
       "      <td>Zimbabwe</td>\n",
       "      <td>1976-01-01</td>\n",
       "      <td>NaN</td>\n",
       "      <td>NaN</td>\n",
       "    </tr>\n",
       "    <tr>\n",
       "      <th>15041</th>\n",
       "      <td>Zimbabwe</td>\n",
       "      <td>1975-01-01</td>\n",
       "      <td>NaN</td>\n",
       "      <td>NaN</td>\n",
       "    </tr>\n",
       "    <tr>\n",
       "      <th>15042</th>\n",
       "      <td>Zimbabwe</td>\n",
       "      <td>1974-01-01</td>\n",
       "      <td>NaN</td>\n",
       "      <td>NaN</td>\n",
       "    </tr>\n",
       "    <tr>\n",
       "      <th>15043</th>\n",
       "      <td>Zimbabwe</td>\n",
       "      <td>1973-01-01</td>\n",
       "      <td>NaN</td>\n",
       "      <td>NaN</td>\n",
       "    </tr>\n",
       "    <tr>\n",
       "      <th>15044</th>\n",
       "      <td>Zimbabwe</td>\n",
       "      <td>1972-01-01</td>\n",
       "      <td>NaN</td>\n",
       "      <td>NaN</td>\n",
       "    </tr>\n",
       "    <tr>\n",
       "      <th>15045</th>\n",
       "      <td>Zimbabwe</td>\n",
       "      <td>1971-01-01</td>\n",
       "      <td>NaN</td>\n",
       "      <td>NaN</td>\n",
       "    </tr>\n",
       "    <tr>\n",
       "      <th>15046</th>\n",
       "      <td>Zimbabwe</td>\n",
       "      <td>1970-01-01</td>\n",
       "      <td>NaN</td>\n",
       "      <td>NaN</td>\n",
       "    </tr>\n",
       "    <tr>\n",
       "      <th>15047</th>\n",
       "      <td>Zimbabwe</td>\n",
       "      <td>1969-01-01</td>\n",
       "      <td>NaN</td>\n",
       "      <td>NaN</td>\n",
       "    </tr>\n",
       "  </tbody>\n",
       "</table>\n",
       "<p>15048 rows × 4 columns</p>\n",
       "</div>"
      ],
      "text/plain": [
       "          country       date   GDP per cap  doing_business\n",
       "0      Arab World 2016-01-01           NaN      126.727273\n",
       "1      Arab World 2015-01-01  15454.231911      126.909091\n",
       "2      Arab World 2014-01-01  15299.087440             NaN\n",
       "3      Arab World 2013-01-01  15206.856468             NaN\n",
       "4      Arab World 2012-01-01  15018.352641             NaN\n",
       "5      Arab World 2011-01-01  14577.135594             NaN\n",
       "6      Arab World 2010-01-01  14490.196491             NaN\n",
       "7      Arab World 2009-01-01  14159.605054             NaN\n",
       "8      Arab World 2008-01-01  14224.249816             NaN\n",
       "9      Arab World 2007-01-01  13705.208397             NaN\n",
       "10     Arab World 2006-01-01  13294.887765             NaN\n",
       "11     Arab World 2005-01-01  12726.811353             NaN\n",
       "12     Arab World 2004-01-01  12277.245829             NaN\n",
       "13     Arab World 2003-01-01  11454.800365             NaN\n",
       "14     Arab World 2002-01-01  11318.372912             NaN\n",
       "15     Arab World 2001-01-01  11397.172878             NaN\n",
       "16     Arab World 2000-01-01  11372.059728             NaN\n",
       "17     Arab World 1999-01-01  11073.126646             NaN\n",
       "18     Arab World 1998-01-01  10921.465437             NaN\n",
       "19     Arab World 1997-01-01  10546.015814             NaN\n",
       "20     Arab World 1996-01-01  10277.928972             NaN\n",
       "21     Arab World 1995-01-01  10024.119493             NaN\n",
       "22     Arab World 1994-01-01  10048.959941             NaN\n",
       "23     Arab World 1993-01-01   9992.604364             NaN\n",
       "24     Arab World 1992-01-01   9881.058779             NaN\n",
       "25     Arab World 1991-01-01   9561.431618             NaN\n",
       "26     Arab World 1990-01-01  10053.737688             NaN\n",
       "27     Arab World 1989-01-01           NaN             NaN\n",
       "28     Arab World 1988-01-01           NaN             NaN\n",
       "29     Arab World 1987-01-01           NaN             NaN\n",
       "...           ...        ...           ...             ...\n",
       "15018    Zimbabwe 1998-01-01   2680.964239             NaN\n",
       "15019    Zimbabwe 1997-01-01   2641.840651             NaN\n",
       "15020    Zimbabwe 1996-01-01   2612.338217             NaN\n",
       "15021    Zimbabwe 1995-01-01   2406.503921             NaN\n",
       "15022    Zimbabwe 1994-01-01   2445.902676             NaN\n",
       "15023    Zimbabwe 1993-01-01   2282.936379             NaN\n",
       "15024    Zimbabwe 1992-01-01   2307.728001             NaN\n",
       "15025    Zimbabwe 1991-01-01   2596.887816             NaN\n",
       "15026    Zimbabwe 1990-01-01   2526.072205             NaN\n",
       "15027    Zimbabwe 1989-01-01           NaN             NaN\n",
       "15028    Zimbabwe 1988-01-01           NaN             NaN\n",
       "15029    Zimbabwe 1987-01-01           NaN             NaN\n",
       "15030    Zimbabwe 1986-01-01           NaN             NaN\n",
       "15031    Zimbabwe 1985-01-01           NaN             NaN\n",
       "15032    Zimbabwe 1984-01-01           NaN             NaN\n",
       "15033    Zimbabwe 1983-01-01           NaN             NaN\n",
       "15034    Zimbabwe 1982-01-01           NaN             NaN\n",
       "15035    Zimbabwe 1981-01-01           NaN             NaN\n",
       "15036    Zimbabwe 1980-01-01           NaN             NaN\n",
       "15037    Zimbabwe 1979-01-01           NaN             NaN\n",
       "15038    Zimbabwe 1978-01-01           NaN             NaN\n",
       "15039    Zimbabwe 1977-01-01           NaN             NaN\n",
       "15040    Zimbabwe 1976-01-01           NaN             NaN\n",
       "15041    Zimbabwe 1975-01-01           NaN             NaN\n",
       "15042    Zimbabwe 1974-01-01           NaN             NaN\n",
       "15043    Zimbabwe 1973-01-01           NaN             NaN\n",
       "15044    Zimbabwe 1972-01-01           NaN             NaN\n",
       "15045    Zimbabwe 1971-01-01           NaN             NaN\n",
       "15046    Zimbabwe 1970-01-01           NaN             NaN\n",
       "15047    Zimbabwe 1969-01-01           NaN             NaN\n",
       "\n",
       "[15048 rows x 4 columns]"
      ]
     },
     "execution_count": 398,
     "metadata": {},
     "output_type": "execute_result"
    }
   ],
   "source": [
    "import wbdata \n",
    "indicators = {\"IC.BUS.EASE.XQ\": \"doing_business\", \"NY.GDP.PCAP.PP.KD\": \"GDP per cap\"}\n",
    "df = wbdata.get_dataframe(indicators, convert_date=True)\n",
    "df = df.reset_index()\n",
    "df"
   ]
  },
  {
   "cell_type": "code",
   "execution_count": 464,
   "metadata": {
    "collapsed": false
   },
   "outputs": [
    {
     "data": {
      "text/plain": [
       "(223, 225)"
      ]
     },
     "execution_count": 464,
     "metadata": {},
     "output_type": "execute_result"
    }
   ],
   "source": [
    "df = df.dropna(axis=0)\n",
    "df.shape"
   ]
  },
  {
   "cell_type": "code",
   "execution_count": 436,
   "metadata": {
    "collapsed": false
   },
   "outputs": [
    {
     "data": {
      "text/plain": [
       "((20, 5), (20, 1))"
      ]
     },
     "execution_count": 436,
     "metadata": {},
     "output_type": "execute_result"
    }
   ],
   "source": [
    "df = makecateg(df.dropna(axis=0))\n",
    "df.shape\n",
    "X = df.ix[1:200,0:5]\n",
    "y = pd.DataFrame(np.zeros(100).tolist()+np.ones(100).tolist())\n",
    "#y = pd.DataFrame()\n",
    "test_X = df.ix[201:220,0:5]\n",
    "test_y = pd.DataFrame(np.zeros(10).tolist()+np.ones(10).tolist())\n",
    "#test_y = df.ix[500:1000,3]\n",
    "test_X.shape,test_y.shape"
   ]
  },
  {
   "cell_type": "code",
   "execution_count": 402,
   "metadata": {
    "collapsed": false
   },
   "outputs": [],
   "source": [
    "#Preprocessing data to convert categorical to binary\n",
    "\n",
    "from sklearn import preprocessing\n",
    "#lb = preprocessing.LabelBinarizer()\n",
    "#lb.fit(newX.inewX[:,0])\n",
    "#lb.classes_\n",
    "#lb.transform([\"Arab World\"])\n",
    "\n",
    "def makecateg(X):\n",
    "    from sklearn import preprocessing\n",
    "    newX = X.copy()\n",
    "    columns = [str(cols) for cols in newX.select_dtypes(include=['dtype']).columns]\n",
    "    if 'date' in [str(cols) for cols in newX.columns]:\n",
    "        newX.date = newX.date.apply(lambda x: int(str(x)[:4]))\n",
    "        newX.date = newX.date.astype(int)\n",
    "    for cols in columns:\n",
    "        lb = preprocessing.LabelBinarizer()\n",
    "        lb.fit(newX.ix[:,0])\n",
    "        classes = [str(classes) for classes in lb.classes_.copy().tolist()]\n",
    "        dum = 0\n",
    "        for cl in classes:\n",
    "            newX[str(cl+'_'+cols)] = lb.transform(newX.ix[:,cols])[:,dum]\n",
    "            dum += 1\n",
    "        del newX[cols]\n",
    "    columns = [str(cols) for cols in newX.columns.tolist()]\n",
    "    for cols in columns:\n",
    "        if 1 == len(newX[cols].unique()):\n",
    "            del newX[cols]\n",
    "    return newX.reset_index(drop=True)\n",
    "    \n"
   ]
  },
  {
   "cell_type": "markdown",
   "metadata": {},
   "source": [
    "## F_1 score Function"
   ]
  },
  {
   "cell_type": "code",
   "execution_count": 418,
   "metadata": {
    "collapsed": true
   },
   "outputs": [],
   "source": [
    "def f1score(model,test_X,test_y):\n",
    "    predictions = model.predict(test_X).tolist()\n",
    "    falsepos = int(predictions > test_y[0].tolist())\n",
    "    falseneg = int(predictions < test_y[0].tolist())\n",
    "    truepos = int(predictions == test_y[0].tolist())\n",
    "    if truepos == 0:\n",
    "        score = 0\n",
    "        return score\n",
    "    precision = float(truepos) / (truepos + falsepos)\n",
    "    recall = float(truepos) / (truepos + falseneg)\n",
    "    score = 2 * (precision * recall) / (precision + recall)\n",
    "    return score"
   ]
  },
  {
   "cell_type": "markdown",
   "metadata": {},
   "source": [
    "## Implementing SVM systems"
   ]
  },
  {
   "cell_type": "code",
   "execution_count": 437,
   "metadata": {
    "collapsed": false
   },
   "outputs": [
    {
     "data": {
      "text/plain": [
       "array([ 1.,  1.,  1.,  1.,  1.,  1.,  1.,  1.,  1.,  1.,  1.,  1.,  1.,\n",
       "        1.,  1.,  1.,  1.,  1.,  1.,  1.])"
      ]
     },
     "execution_count": 437,
     "metadata": {},
     "output_type": "execute_result"
    }
   ],
   "source": [
    "from sklearn import svm\n",
    "\n",
    "svm_model = svm.SVC()\n",
    "svm_model.fit(X,y)\n",
    "svm_model.score(X,y)\n",
    "svm_model.predict(test_X)\n"
   ]
  },
  {
   "cell_type": "code",
   "execution_count": 404,
   "metadata": {
    "collapsed": false
   },
   "outputs": [
    {
     "data": {
      "text/plain": [
       "array([ 0.89960816,  0.50507691,  0.50507691,  0.50507691,  0.50507691,\n",
       "        0.50507691,  0.50507691,  0.50507691,  0.50507691,  0.50507691,\n",
       "        0.50507691,  0.50507691,  0.50507691,  0.50507691,  0.50507691,\n",
       "        0.50507691,  0.50507691,  0.50507691,  0.50507691,  0.50507691,\n",
       "        0.50507691])"
      ]
     },
     "execution_count": 404,
     "metadata": {},
     "output_type": "execute_result"
    }
   ],
   "source": [
    "svm_model = svm.SVR()\n",
    "svm_model.fit(X,y)\n",
    "svm_model.score(X,y)\n",
    "svm_model.predict(test_X)"
   ]
  },
  {
   "cell_type": "markdown",
   "metadata": {},
   "source": [
    "### Checking various regularization parameters"
   ]
  },
  {
   "cell_type": "code",
   "execution_count": 438,
   "metadata": {
    "collapsed": false
   },
   "outputs": [],
   "source": [
    "def best_reg_SVM(X,y,test_X,test_y,model_type):\n",
    "    C = [1, 1e-1,1e-2,1e-3,1e-4,1e-5]\n",
    "    evalmet = []\n",
    "    regs = []\n",
    "    if model_type == \"SVC\":\n",
    "        from sklearn import svm\n",
    "        for reg in C:\n",
    "            model = svm.SVC(C=reg)\n",
    "            model.fit(X,y)\n",
    "            evalmet.append(f1score(model,test_X,test_y))\n",
    "            regs.append(reg)\n",
    "        best_reg = regs[np.argmax(evalmet)]\n",
    "        return best_reg\n",
    "    if model_type == \"SVR\":\n",
    "        from sklearn import svm\n",
    "        for reg in C:\n",
    "            model = svm.SVR(C=reg)\n",
    "            model.fit(X,y)\n",
    "            score = model.score(test_X,test_y)\n",
    "            evalmet.append(score)\n",
    "            regs.append(reg)\n",
    "        print(evalmet)\n",
    "        best_reg = regs[np.argmax(evalmet)]\n",
    "        return best_reg\n",
    "    else:\n",
    "        return \"Please use SVC or SVR!\"\n",
    "                    "
   ]
  },
  {
   "cell_type": "code",
   "execution_count": 439,
   "metadata": {
    "collapsed": false
   },
   "outputs": [
    {
     "data": {
      "text/plain": [
       "1"
      ]
     },
     "execution_count": 439,
     "metadata": {},
     "output_type": "execute_result"
    }
   ],
   "source": [
    "best_reg_SVM(X,y,test_X,test_y,\"SVC\")"
   ]
  },
  {
   "cell_type": "markdown",
   "metadata": {},
   "source": [
    "## Implementing Multilayer Perceptron (ANN)"
   ]
  },
  {
   "cell_type": "code",
   "execution_count": 440,
   "metadata": {
    "collapsed": false
   },
   "outputs": [
    {
     "data": {
      "text/plain": [
       "0"
      ]
     },
     "execution_count": 440,
     "metadata": {},
     "output_type": "execute_result"
    }
   ],
   "source": [
    "from sklearn.neural_network import MLPClassifier\n",
    "mlc_model = MLPClassifier(activation = 'logistic', hidden_layer_sizes = (X.shape[0],2))\n",
    "mlc_model.fit(X,y)\n",
    "mlc_model.score(X,y)\n",
    "mlc_model.predict(test_X)\n",
    "f1score(mlc_model,test_X,test_y)"
   ]
  },
  {
   "cell_type": "code",
   "execution_count": 441,
   "metadata": {
    "collapsed": false
   },
   "outputs": [],
   "source": [
    "def best_layers(X,y,test_X,test_y,reg=1):\n",
    "    evalmet = []\n",
    "    layers = []\n",
    "    from sklearn.neural_network import MLPClassifier\n",
    "    for layer in range(1,4):\n",
    "        model = MLPClassifier(activation = 'logistic', hidden_layer_sizes = (pd.DataFrame(X).shape[0],layer),alpha = reg)\n",
    "        model.fit(X,y)\n",
    "        evalmet.append(f1score(model,test_X,test_y))\n",
    "        layers.append(layer)\n",
    "    best_layer = layers[np.argmax(evalmet)]\n",
    "    return best_layer\n",
    "\n",
    "def best_reg_MLP(X,y,test_X,test_y):\n",
    "    alpha = [1, 1e1,1e2,1e3,1e4,1e5]\n",
    "    evalmet = []\n",
    "    regs = []\n",
    "    from sklearn.neural_network import MLPClassifier\n",
    "    for reg in alpha:\n",
    "        model = MLPClassifier(activation = 'logistic', hidden_layer_sizes = (pd.DataFrame(X).shape[0],2),alpha = reg)\n",
    "        model.fit(X,y)\n",
    "        evalmet.append(f1score(model,test_X,test_y))\n",
    "        regs.append(reg)\n",
    "    best_reg = regs[np.argmax(evalmet)]\n",
    "    return best_reg"
   ]
  },
  {
   "cell_type": "code",
   "execution_count": 442,
   "metadata": {
    "collapsed": false
   },
   "outputs": [
    {
     "data": {
      "text/plain": [
       "1"
      ]
     },
     "execution_count": 442,
     "metadata": {},
     "output_type": "execute_result"
    }
   ],
   "source": [
    "best_layers(X,y,test_X,test_y)\n",
    "best_reg_MLP(X,y,test_X,test_y)"
   ]
  },
  {
   "cell_type": "markdown",
   "metadata": {},
   "source": [
    "## Implementing Linear Regression"
   ]
  },
  {
   "cell_type": "code",
   "execution_count": 249,
   "metadata": {
    "collapsed": false
   },
   "outputs": [
    {
     "data": {
      "text/plain": [
       "0.71092256085079053"
      ]
     },
     "execution_count": 249,
     "metadata": {},
     "output_type": "execute_result"
    }
   ],
   "source": [
    "from sklearn import linear_model\n",
    "lin_model = linear_model.Ridge(alpha = 0.5)\n",
    "lin_model.fit(X,y)\n",
    "lin_model.score(test_X,test_y)"
   ]
  },
  {
   "cell_type": "code",
   "execution_count": 250,
   "metadata": {
    "collapsed": true
   },
   "outputs": [],
   "source": [
    "def best_reg_lin(X,y,test_X,test_y):\n",
    "    alpha = [1,1e2,1e3,1e4,1e5,1e6]\n",
    "    evalmet = []\n",
    "    regs = []\n",
    "    from sklearn import linear_model\n",
    "    for reg in alpha:\n",
    "        model = linear_model.Ridge(alpha = reg)\n",
    "        model.fit(X,y)\n",
    "        evalmet.append(model.score(test_X,test_y))\n",
    "        regs.append(reg)\n",
    "    best_reg = regs[np.argmax(evalmet)]\n",
    "    return best_reg"
   ]
  },
  {
   "cell_type": "code",
   "execution_count": 251,
   "metadata": {
    "collapsed": false
   },
   "outputs": [
    {
     "data": {
      "text/plain": [
       "1000000.0"
      ]
     },
     "execution_count": 251,
     "metadata": {},
     "output_type": "execute_result"
    }
   ],
   "source": [
    "best_reg_lin(X,y,test_X,test_y)"
   ]
  },
  {
   "cell_type": "markdown",
   "metadata": {},
   "source": [
    "## Implementing Logistic Regression"
   ]
  },
  {
   "cell_type": "code",
   "execution_count": 443,
   "metadata": {
    "collapsed": false
   },
   "outputs": [
    {
     "data": {
      "text/plain": [
       "0.5"
      ]
     },
     "execution_count": 443,
     "metadata": {},
     "output_type": "execute_result"
    }
   ],
   "source": [
    "from sklearn import linear_model\n",
    "log_model = linear_model.LogisticRegression(solver='sag',C=1e5)\n",
    "log_model.fit(X,y)\n",
    "log_model.score(test_X,test_y)"
   ]
  },
  {
   "cell_type": "code",
   "execution_count": 444,
   "metadata": {
    "collapsed": true
   },
   "outputs": [],
   "source": [
    "def best_reg_log(X,y,test_X,test_y):\n",
    "    C = [1,1e-2,1e-3,1e-4,1e-5,1e-6]\n",
    "    evalmet = []\n",
    "    regs = []\n",
    "    from sklearn import linear_model\n",
    "    for reg in C:\n",
    "        model = linear_model.LogisticRegression(C = reg,solver='sag')\n",
    "        model.fit(X,y)\n",
    "        evalmet.append(model.score(test_X,test_y))\n",
    "        regs.append(reg)\n",
    "    best_reg = regs[np.argmax(evalmet)]\n",
    "    return best_reg"
   ]
  },
  {
   "cell_type": "code",
   "execution_count": 445,
   "metadata": {
    "collapsed": false
   },
   "outputs": [
    {
     "data": {
      "text/plain": [
       "1"
      ]
     },
     "execution_count": 445,
     "metadata": {},
     "output_type": "execute_result"
    }
   ],
   "source": [
    "best_reg_log(X,y,test_X,test_y)"
   ]
  },
  {
   "cell_type": "markdown",
   "metadata": {},
   "source": [
    "# Learning Curves for Bias/Variance"
   ]
  },
  {
   "cell_type": "code",
   "execution_count": 121,
   "metadata": {
    "collapsed": true
   },
   "outputs": [],
   "source": [
    "#def learningcurve(X,y,test_X,test_y,model_choice,reg,n_jobs=4):\n",
    "#    from sklearn.model_selection import learning_curve\n",
    "#    X.append(test_X)\n",
    "#    y.append(test_y)\n",
    "#    if model_choice == \"SVC\":\n",
    "#        from sklearn import svm\n",
    "#        estimator = svm.SVC(C=reg)\n",
    "#    elif model == \"SVR\":\n",
    "#        from sklearn import svm\n",
    "#        estimator = svm.SVC(C=reg)\n",
    "#    elif model == \"linear\":\n",
    "#        from sklearn import linear_model\n",
    "#        estimator = svm.SVC(alpha=reg)\n",
    "#    elif model == \"logistic\":\n",
    "#        from sklearn import linear_model\n",
    "#        estimator = svm.SVC(C=reg)\n",
    "#    elif model == \"MLP\":\n",
    "#        from sklearn.neural_network import MLPClassifier\n",
    "#        estimator = svm.SVC(alpha=reg)\n",
    "#    else:\n",
    "#        return \"Please choose between SVC, SVR, linear, logistic, MLP\"\n",
    "#    train_sizes, train_scores, test_scores = learning_curve(estimator,X, y,n_jobs=n_jobs)"
   ]
  },
  {
   "cell_type": "code",
   "execution_count": 446,
   "metadata": {
    "collapsed": true
   },
   "outputs": [],
   "source": [
    "#FROM \n",
    "#http://scikit-learn.org/stable/auto_examples/model_selection/plot_learning_curve.html#sphx-glr-auto-examples-model-selection-plot-learning-curve-py\n",
    "\n",
    "import numpy as np\n",
    "import matplotlib.pyplot as plt\n",
    "from sklearn.naive_bayes import GaussianNB\n",
    "from sklearn.svm import SVC\n",
    "from sklearn.datasets import load_digits\n",
    "from sklearn.model_selection import learning_curve\n",
    "from sklearn.model_selection import ShuffleSplit\n",
    "\n",
    "def plot_learning_curve(estimator, title, X, y, ylim=None, cv=None,\n",
    "                        n_jobs=1, train_sizes=np.linspace(.1, 1.0, 5)):\n",
    "    \"\"\"\n",
    "    Generate a simple plot of the test and training learning curve.\n",
    "\n",
    "    Parameters\n",
    "    ----------\n",
    "    estimator : object type that implements the \"fit\" and \"predict\" methods\n",
    "        An object of that type which is cloned for each validation.\n",
    "\n",
    "    title : string\n",
    "        Title for the chart.\n",
    "\n",
    "    X : array-like, shape (n_samples, n_features)\n",
    "        Training vector, where n_samples is the number of samples and\n",
    "        n_features is the number of features.\n",
    "\n",
    "    y : array-like, shape (n_samples) or (n_samples, n_features), optional\n",
    "        Target relative to X for classification or regression;\n",
    "        None for unsupervised learning.\n",
    "\n",
    "    ylim : tuple, shape (ymin, ymax), optional\n",
    "        Defines minimum and maximum yvalues plotted.\n",
    "\n",
    "    cv : int, cross-validation generator or an iterable, optional\n",
    "        Determines the cross-validation splitting strategy.\n",
    "        Possible inputs for cv are:\n",
    "          - None, to use the default 3-fold cross-validation,\n",
    "          - integer, to specify the number of folds.\n",
    "          - An object to be used as a cross-validation generator.\n",
    "          - An iterable yielding train/test splits.\n",
    "\n",
    "        For integer/None inputs, if ``y`` is binary or multiclass,\n",
    "        :class:`StratifiedKFold` used. If the estimator is not a classifier\n",
    "        or if ``y`` is neither binary nor multiclass, :class:`KFold` is used.\n",
    "\n",
    "        Refer :ref:`User Guide <cross_validation>` for the various\n",
    "        cross-validators that can be used here.\n",
    "\n",
    "    n_jobs : integer, optional\n",
    "        Number of jobs to run in parallel (default 1).\n",
    "    \"\"\"\n",
    "    plt.figure()\n",
    "    plt.title(title)\n",
    "    if ylim is not None:\n",
    "        plt.ylim(*ylim)\n",
    "    plt.xlabel(\"Training examples\")\n",
    "    plt.ylabel(\"Score\")\n",
    "    train_sizes, train_scores, test_scores = learning_curve(\n",
    "        estimator, X, y, cv=cv, n_jobs=n_jobs, train_sizes=train_sizes)\n",
    "    train_scores_mean = np.mean(train_scores, axis=1)\n",
    "    train_scores_std = np.std(train_scores, axis=1)\n",
    "    test_scores_mean = np.mean(test_scores, axis=1)\n",
    "    test_scores_std = np.std(test_scores, axis=1)\n",
    "    plt.grid()\n",
    "\n",
    "    plt.fill_between(train_sizes, train_scores_mean - train_scores_std,\n",
    "                     train_scores_mean + train_scores_std, alpha=0.1,\n",
    "                     color=\"r\")\n",
    "    plt.fill_between(train_sizes, test_scores_mean - test_scores_std,\n",
    "                     test_scores_mean + test_scores_std, alpha=0.1, color=\"g\")\n",
    "    plt.plot(train_sizes, train_scores_mean, 'o-', color=\"r\",\n",
    "             label=\"Training score\")\n",
    "    plt.plot(train_sizes, test_scores_mean, 'o-', color=\"g\",\n",
    "             label=\"Cross-validation score\")\n",
    "\n",
    "    plt.legend(loc=\"best\")\n",
    "    return plt"
   ]
  },
  {
   "cell_type": "code",
   "execution_count": 449,
   "metadata": {
    "collapsed": true
   },
   "outputs": [],
   "source": [
    "estimator = linear_model.Ridge(alpha=0.5)\n",
    "title = 'asdf'"
   ]
  },
  {
   "cell_type": "code",
   "execution_count": 450,
   "metadata": {
    "collapsed": false
   },
   "outputs": [
    {
     "data": {
      "text/plain": [
       "<module 'matplotlib.pyplot' from '/Users/juntaeklee/anaconda/lib/python2.7/site-packages/matplotlib/pyplot.pyc'>"
      ]
     },
     "execution_count": 450,
     "metadata": {},
     "output_type": "execute_result"
    }
   ],
   "source": [
    "plot_learning_curve(estimator, title, X, y)"
   ]
  },
  {
   "cell_type": "code",
   "execution_count": 451,
   "metadata": {
    "collapsed": false
   },
   "outputs": [
    {
     "data": {
      "image/png": "[encoded data removed]",
      "text/plain": [
       "<matplotlib.figure.Figure at 0x10e468e10>"
      ]
     },
     "metadata": {},
     "output_type": "display_data"
    }
   ],
   "source": [
    "plt.show()"
   ]
  },
  {
   "cell_type": "markdown",
   "metadata": {},
   "source": [
    "# Trying out xml file"
   ]
  },
  {
   "cell_type": "code",
   "execution_count": 456,
   "metadata": {
    "collapsed": false
   },
   "outputs": [
    {
     "data": {
      "text/plain": [
       "<addinfourl at 4548740088 whose fp = <socket._fileobject object at 0x10ec71250>>"
      ]
     },
     "execution_count": 456,
     "metadata": {},
     "output_type": "execute_result"
    }
   ],
   "source": [
    "import urllib \n",
    "from xml.dom import minidom\n",
    "usock = urllib.urlopen('http://api.worldbank.org/indicators') \n",
    "usock"
   ]
  },
  {
   "cell_type": "code",
   "execution_count": 463,
   "metadata": {
    "collapsed": false
   },
   "outputs": [
    {
     "ename": "ValueError",
     "evalue": "unknown url type: /Users/juntaeklee/Documents/Projects/UNMOdel/indicators.xml",
     "output_type": "error",
     "traceback": [
      "\u001b[0;31m---------------------------------------------------------------------------\u001b[0m",
      "\u001b[0;31mValueError\u001b[0m                                Traceback (most recent call last)",
      "\u001b[0;32m<ipython-input-463-1bb5e11f56a9>\u001b[0m in \u001b[0;36m<module>\u001b[0;34m()\u001b[0m\n\u001b[1;32m      4\u001b[0m \u001b[0;32mfrom\u001b[0m \u001b[0mBeautifulSoup\u001b[0m \u001b[0;32mimport\u001b[0m \u001b[0mBeautifulSoup\u001b[0m \u001b[0;32mas\u001b[0m \u001b[0mBS\u001b[0m\u001b[0;34m\u001b[0m\u001b[0m\n\u001b[1;32m      5\u001b[0m \u001b[0murl2\u001b[0m \u001b[0;34m=\u001b[0m \u001b[0;34m\"/Users/juntaeklee/Documents/Projects/UNMOdel/indicators.xml\"\u001b[0m\u001b[0;34m\u001b[0m\u001b[0m\n\u001b[0;32m----> 6\u001b[0;31m \u001b[0mhtml2\u001b[0m \u001b[0;34m=\u001b[0m \u001b[0murllib2\u001b[0m\u001b[0;34m.\u001b[0m\u001b[0murlopen\u001b[0m\u001b[0;34m(\u001b[0m\u001b[0murl2\u001b[0m\u001b[0;34m)\u001b[0m\u001b[0;34m\u001b[0m\u001b[0m\n\u001b[0m\u001b[1;32m      7\u001b[0m \u001b[0msoup2\u001b[0m \u001b[0;34m=\u001b[0m \u001b[0mBS\u001b[0m\u001b[0;34m(\u001b[0m\u001b[0mhtml2\u001b[0m\u001b[0;34m)\u001b[0m\u001b[0;34m\u001b[0m\u001b[0m\n",
      "\u001b[0;32m/Users/juntaeklee/anaconda/lib/python2.7/urllib2.pyc\u001b[0m in \u001b[0;36murlopen\u001b[0;34m(url, data, timeout, cafile, capath, cadefault, context)\u001b[0m\n\u001b[1;32m    152\u001b[0m     \u001b[0;32melse\u001b[0m\u001b[0;34m:\u001b[0m\u001b[0;34m\u001b[0m\u001b[0m\n\u001b[1;32m    153\u001b[0m         \u001b[0mopener\u001b[0m \u001b[0;34m=\u001b[0m \u001b[0m_opener\u001b[0m\u001b[0;34m\u001b[0m\u001b[0m\n\u001b[0;32m--> 154\u001b[0;31m     \u001b[0;32mreturn\u001b[0m \u001b[0mopener\u001b[0m\u001b[0;34m.\u001b[0m\u001b[0mopen\u001b[0m\u001b[0;34m(\u001b[0m\u001b[0murl\u001b[0m\u001b[0;34m,\u001b[0m \u001b[0mdata\u001b[0m\u001b[0;34m,\u001b[0m \u001b[0mtimeout\u001b[0m\u001b[0;34m)\u001b[0m\u001b[0;34m\u001b[0m\u001b[0m\n\u001b[0m\u001b[1;32m    155\u001b[0m \u001b[0;34m\u001b[0m\u001b[0m\n\u001b[1;32m    156\u001b[0m \u001b[0;32mdef\u001b[0m \u001b[0minstall_opener\u001b[0m\u001b[0;34m(\u001b[0m\u001b[0mopener\u001b[0m\u001b[0;34m)\u001b[0m\u001b[0;34m:\u001b[0m\u001b[0;34m\u001b[0m\u001b[0m\n",
      "\u001b[0;32m/Users/juntaeklee/anaconda/lib/python2.7/urllib2.pyc\u001b[0m in \u001b[0;36mopen\u001b[0;34m(self, fullurl, data, timeout)\u001b[0m\n\u001b[1;32m    419\u001b[0m \u001b[0;34m\u001b[0m\u001b[0m\n\u001b[1;32m    420\u001b[0m         \u001b[0mreq\u001b[0m\u001b[0;34m.\u001b[0m\u001b[0mtimeout\u001b[0m \u001b[0;34m=\u001b[0m \u001b[0mtimeout\u001b[0m\u001b[0;34m\u001b[0m\u001b[0m\n\u001b[0;32m--> 421\u001b[0;31m         \u001b[0mprotocol\u001b[0m \u001b[0;34m=\u001b[0m \u001b[0mreq\u001b[0m\u001b[0;34m.\u001b[0m\u001b[0mget_type\u001b[0m\u001b[0;34m(\u001b[0m\u001b[0;34m)\u001b[0m\u001b[0;34m\u001b[0m\u001b[0m\n\u001b[0m\u001b[1;32m    422\u001b[0m \u001b[0;34m\u001b[0m\u001b[0m\n\u001b[1;32m    423\u001b[0m         \u001b[0;31m# pre-process request\u001b[0m\u001b[0;34m\u001b[0m\u001b[0;34m\u001b[0m\u001b[0m\n",
      "\u001b[0;32m/Users/juntaeklee/anaconda/lib/python2.7/urllib2.pyc\u001b[0m in \u001b[0;36mget_type\u001b[0;34m(self)\u001b[0m\n\u001b[1;32m    281\u001b[0m             \u001b[0mself\u001b[0m\u001b[0;34m.\u001b[0m\u001b[0mtype\u001b[0m\u001b[0;34m,\u001b[0m \u001b[0mself\u001b[0m\u001b[0;34m.\u001b[0m\u001b[0m__r_type\u001b[0m \u001b[0;34m=\u001b[0m \u001b[0msplittype\u001b[0m\u001b[0;34m(\u001b[0m\u001b[0mself\u001b[0m\u001b[0;34m.\u001b[0m\u001b[0m__original\u001b[0m\u001b[0;34m)\u001b[0m\u001b[0;34m\u001b[0m\u001b[0m\n\u001b[1;32m    282\u001b[0m             \u001b[0;32mif\u001b[0m \u001b[0mself\u001b[0m\u001b[0;34m.\u001b[0m\u001b[0mtype\u001b[0m \u001b[0;32mis\u001b[0m \u001b[0mNone\u001b[0m\u001b[0;34m:\u001b[0m\u001b[0;34m\u001b[0m\u001b[0m\n\u001b[0;32m--> 283\u001b[0;31m                 \u001b[0;32mraise\u001b[0m \u001b[0mValueError\u001b[0m\u001b[0;34m,\u001b[0m \u001b[0;34m\"unknown url type: %s\"\u001b[0m \u001b[0;34m%\u001b[0m \u001b[0mself\u001b[0m\u001b[0;34m.\u001b[0m\u001b[0m__original\u001b[0m\u001b[0;34m\u001b[0m\u001b[0m\n\u001b[0m\u001b[1;32m    284\u001b[0m         \u001b[0;32mreturn\u001b[0m \u001b[0mself\u001b[0m\u001b[0;34m.\u001b[0m\u001b[0mtype\u001b[0m\u001b[0;34m\u001b[0m\u001b[0m\n\u001b[1;32m    285\u001b[0m \u001b[0;34m\u001b[0m\u001b[0m\n",
      "\u001b[0;31mValueError\u001b[0m: unknown url type: /Users/juntaeklee/Documents/Projects/UNMOdel/indicators.xml"
     ]
    }
   ],
   "source": [
    "import pandas as pd\n",
    "import os\n",
    "import urllib2\n",
    "from BeautifulSoup import BeautifulSoup as BS\n",
    "url2 = \"/Users/juntaeklee/Documents/Projects/UNMOdel/indicators.xml\"\n",
    "html2 = urllib2.urlopen(url2)\n",
    "soup2 = BS(html2)"
   ]
  },
  {
   "cell_type": "code",
   "execution_count": 462,
   "metadata": {
    "collapsed": false
   },
   "outputs": [
    {
     "ename": "ImportError",
     "evalue": "No module named xmltodict",
     "output_type": "error",
     "traceback": [
      "\u001b[0;31m---------------------------------------------------------------------------\u001b[0m",
      "\u001b[0;31mImportError\u001b[0m                               Traceback (most recent call last)",
      "\u001b[0;32m<ipython-input-462-2d68f460750e>\u001b[0m in \u001b[0;36m<module>\u001b[0;34m()\u001b[0m\n\u001b[0;32m----> 1\u001b[0;31m \u001b[0;32mimport\u001b[0m \u001b[0mxmltodict\u001b[0m\u001b[0;34m\u001b[0m\u001b[0m\n\u001b[0m\u001b[1;32m      2\u001b[0m \u001b[0;34m\u001b[0m\u001b[0m\n\u001b[1;32m      3\u001b[0m \u001b[0;32mwith\u001b[0m \u001b[0mopen\u001b[0m\u001b[0;34m(\u001b[0m\u001b[0;34m'/Users/juntaeklee/Documents/Projects/UNMOdel/indicators.xml'\u001b[0m\u001b[0;34m)\u001b[0m \u001b[0;32mas\u001b[0m \u001b[0mfd\u001b[0m\u001b[0;34m:\u001b[0m\u001b[0;34m\u001b[0m\u001b[0m\n\u001b[1;32m      4\u001b[0m     \u001b[0mdoc\u001b[0m \u001b[0;34m=\u001b[0m \u001b[0mxmltodict\u001b[0m\u001b[0;34m.\u001b[0m\u001b[0mparse\u001b[0m\u001b[0;34m(\u001b[0m\u001b[0mfd\u001b[0m\u001b[0;34m.\u001b[0m\u001b[0mread\u001b[0m\u001b[0;34m(\u001b[0m\u001b[0;34m)\u001b[0m\u001b[0;34m)\u001b[0m\u001b[0;34m\u001b[0m\u001b[0m\n",
      "\u001b[0;31mImportError\u001b[0m: No module named xmltodict"
     ]
    }
   ],
   "source": [
    "import xmltodict\n",
    "\n",
    "with open('/Users/juntaeklee/Documents/Projects/UNMOdel/indicators.xml') as fd:\n",
    "    doc = xmltodict.parse(fd.read())"
   ]
  },
  {
   "cell_type": "code",
   "execution_count": null,
   "metadata": {
    "collapsed": true
   },
   "outputs": [],
   "source": []
  }
 ],
 "metadata": {
  "kernelspec": {
   "display_name": "Python 2",
   "language": "python",
   "name": "python2"
  },
  "language_info": {
   "codemirror_mode": {
    "name": "ipython",
    "version": 2
   },
   "file_extension": ".py",
   "mimetype": "text/x-python",
   "name": "python",
   "nbconvert_exporter": "python",
   "pygments_lexer": "ipython2",
   "version": "2.7.13"
  }
 },
 "nbformat": 4,
 "nbformat_minor": 2
}
